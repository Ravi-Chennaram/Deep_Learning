{
 "cells": [
  {
   "cell_type": "code",
   "execution_count": 12,
   "id": "c4789921",
   "metadata": {},
   "outputs": [],
   "source": [
    "import numpy as ny\n",
    "import matplotlib.pyplot as pt\n",
    "import keras\n",
    "from keras.datasets import cifar10\n",
    "from keras.models import Sequential\n",
    "from keras.layers import Conv2D, MaxPool2D, Dense, Dropout, Flatten\n",
    "\n",
    "# Here, we import the required libraries for our CNN implementation. \n",
    "# numPy is a library for numerical computing, matplotlib is a library for\n",
    "# plotting graphs, keras is a high-level neural networks API for Python, \n",
    "# # and the rest of the imports are specific Keras modules for building and training our CNN."
   ]
  },
  {
   "cell_type": "code",
   "execution_count": null,
   "id": "802a7bd3",
   "metadata": {},
   "outputs": [],
   "source": []
  },
  {
   "cell_type": "code",
   "execution_count": 15,
   "id": "9bdd9e3d",
   "metadata": {},
   "outputs": [],
   "source": [
    "(x_tr, y_tr), (x_tst, y_tst) = cifar10.load_data()\n",
    "\n",
    "# Here, we load the CIFAR-10 dataset, which is a popular image classification dataset consisting of \n",
    "# 50,000 training images and 10,000 test images of size 32x32 pixels, with 10 different classes of objects. \n",
    "# The data is divided into training and testing sets, with the training set being used to train the CNN \n",
    "# and the testing set being used to evaluate its performance."
   ]
  },
  {
   "cell_type": "code",
   "execution_count": 16,
   "id": "63d81a2c",
   "metadata": {},
   "outputs": [],
   "source": [
    "x_tr = x_tr.astype('float32') / 255\n",
    "x_tst = x_tst.astype('float32') /255\n",
    "\n",
    "# Here, we normalize the pixel values of the input images to lie between 0 and 1 by \n",
    "# dividing each pixel value by 255 (the maximum pixel value)."
   ]
  },
  {
   "cell_type": "code",
   "execution_count": 17,
   "id": "14b78091",
   "metadata": {},
   "outputs": [],
   "source": [
    "y_tr = keras.utils.to_categorical(y_tr, 10)\n",
    "y_tst = keras.utils.to_categorical(y_tst, 10)"
   ]
  },
  {
   "cell_type": "code",
   "execution_count": 43,
   "id": "c808bbed",
   "metadata": {},
   "outputs": [],
   "source": [
    "model_cnn = Sequential()\n",
    "\n",
    "# Here, we perform one-hot encoding of the class labels. One-hot encoding is a technique \n",
    "# used to represent categorical data as numerical data, where each class is represented \n",
    "# as a binary vector with a 1 in the position corresponding to the class label and 0s elsewhere."
   ]
  },
  {
   "cell_type": "code",
   "execution_count": 22,
   "id": "7d176bde",
   "metadata": {},
   "outputs": [],
   "source": [
    "model_cnn.add(Conv2D(32,(3, 3), padding= \"same\", activation=\"relu\", input_shape=x_tr.shape[1:]))"
   ]
  },
  {
   "cell_type": "code",
   "execution_count": 23,
   "id": "5cd40883",
   "metadata": {},
   "outputs": [],
   "source": [
    "model_cnn.add(Conv2D(32, (3, 3), activation=\"relu\"))"
   ]
  },
  {
   "cell_type": "code",
   "execution_count": 24,
   "id": "bc777d46",
   "metadata": {},
   "outputs": [],
   "source": [
    "model_cnn.add(MaxPool2D(pool_size=(2,2)))"
   ]
  },
  {
   "cell_type": "code",
   "execution_count": 25,
   "id": "15b2c845",
   "metadata": {},
   "outputs": [],
   "source": [
    "model_cnn.add(Dropout(0.25))"
   ]
  },
  {
   "cell_type": "code",
   "execution_count": 26,
   "id": "94a68fda",
   "metadata": {},
   "outputs": [],
   "source": [
    "model_cnn.add(Flatten())"
   ]
  },
  {
   "cell_type": "code",
   "execution_count": 27,
   "id": "3bbb3572",
   "metadata": {},
   "outputs": [],
   "source": [
    "model_cnn.add(Dense(512, activation=\"relu\"))"
   ]
  },
  {
   "cell_type": "code",
   "execution_count": 28,
   "id": "a35ab49f",
   "metadata": {},
   "outputs": [],
   "source": [
    "model_cnn.add(Dropout(0.5))"
   ]
  },
  {
   "cell_type": "code",
   "execution_count": 29,
   "id": "8e7dc360",
   "metadata": {},
   "outputs": [],
   "source": [
    "model_cnn.add(Dense(10, activation=\"softmax\"))"
   ]
  },
  {
   "cell_type": "code",
   "execution_count": 44,
   "id": "fed31984",
   "metadata": {},
   "outputs": [],
   "source": [
    "model_cnn.compile(loss='categorical_crossentropy', optimizer='adam', metrics=['accuracy'])\n",
    "\n",
    "# Here, we define the architecture of our CNN. We use the Sequential class from Keras to define a linear stack of layers. \n",
    "# We start with two Conv2D layers with 32 and 64 filters respectively, followed by MaxPooling2D layers to reduce \n",
    "# the spatial dimensions of the feature maps. We then add Dropout layers to regularize the model and prevent overfitting. \n",
    "# We then flatten the output of the convolutional layers into a 1D vector using Flatten, \n",
    "# followed by two fully connected Dense layers with 512 and 10 units respectively.\n",
    "# The last layer uses the softmax activation function to output a probability distribution over the 10 classes."
   ]
  },
  {
   "cell_type": "code",
   "execution_count": 32,
   "id": "9c69b225",
   "metadata": {},
   "outputs": [
    {
     "name": "stdout",
     "output_type": "stream",
     "text": [
      "Epoch 1/10\n",
      "782/782 [==============================] - 88s 111ms/step - loss: 1.4967 - accuracy: 0.4615 - val_loss: 1.1501 - val_accuracy: 0.6036\n",
      "Epoch 2/10\n",
      "782/782 [==============================] - 95s 121ms/step - loss: 1.1278 - accuracy: 0.5989 - val_loss: 1.0352 - val_accuracy: 0.6338\n",
      "Epoch 3/10\n",
      "782/782 [==============================] - 92s 117ms/step - loss: 0.9871 - accuracy: 0.6511 - val_loss: 0.9607 - val_accuracy: 0.6617\n",
      "Epoch 4/10\n",
      "782/782 [==============================] - 105s 134ms/step - loss: 0.8838 - accuracy: 0.6892 - val_loss: 0.8996 - val_accuracy: 0.6905\n",
      "Epoch 5/10\n",
      "782/782 [==============================] - 96s 123ms/step - loss: 0.8060 - accuracy: 0.7151 - val_loss: 0.8856 - val_accuracy: 0.6935\n",
      "Epoch 6/10\n",
      "782/782 [==============================] - 98s 125ms/step - loss: 0.7320 - accuracy: 0.7417 - val_loss: 0.8458 - val_accuracy: 0.7062\n",
      "Epoch 7/10\n",
      "782/782 [==============================] - 102s 131ms/step - loss: 0.6686 - accuracy: 0.7628 - val_loss: 0.8521 - val_accuracy: 0.7117\n",
      "Epoch 8/10\n",
      "782/782 [==============================] - 102s 130ms/step - loss: 0.6084 - accuracy: 0.7828 - val_loss: 0.8306 - val_accuracy: 0.7142\n",
      "Epoch 9/10\n",
      "782/782 [==============================] - 104s 133ms/step - loss: 0.5507 - accuracy: 0.8022 - val_loss: 0.8836 - val_accuracy: 0.7121\n",
      "Epoch 10/10\n",
      "782/782 [==============================] - 98s 125ms/step - loss: 0.4997 - accuracy: 0.8220 - val_loss: 0.8599 - val_accuracy: 0.7175\n"
     ]
    }
   ],
   "source": [
    "hist_cnn = model_cnn.fit(x_tr, y_tr, batch_size=64, epochs=10, validation_data=(x_tst, y_tst), shuffle=True)"
   ]
  },
  {
   "cell_type": "code",
   "execution_count": 40,
   "id": "ec9cdebc",
   "metadata": {},
   "outputs": [
    {
     "data": {
      "image/png": "[encoded data removed]",
      "text/plain": [
       "<Figure size 432x288 with 1 Axes>"
      ]
     },
     "metadata": {
      "needs_background": "light"
     },
     "output_type": "display_data"
    }
   ],
   "source": [
    "pt.plot(hist_cnn.history['accuracy'], label='Train data accuracy')\n",
    "pt.plot(hist_cnn.history['val_accuracy'], label='Validation data accuracy')\n",
    "pt.xlabel('Epoch of the model')\n",
    "pt.ylabel('Accuracy of the model')\n",
    "pt.legend()\n",
    "pt.show()"
   ]
  },
  {
   "cell_type": "code",
   "execution_count": 42,
   "id": "164d4242",
   "metadata": {},
   "outputs": [
    {
     "name": "stdout",
     "output_type": "stream",
     "text": [
      "Test data Loss: 0.859925389289856\n",
      "Test data Accuracy: 0.7174999713897705\n"
     ]
    }
   ],
   "source": [
    "score = model.evaluate(x_tst, y_tst, verbose=0)\n",
    "print('Test data Loss:', score[0])\n",
    "print('Test data Accuracy:', score[1])"
   ]
  },
  {
   "cell_type": "code",
   "execution_count": null,
   "id": "b6026603",
   "metadata": {},
   "outputs": [],
   "source": []
  }
 ],
 "metadata": {
  "kernelspec": {
   "display_name": "Python 3 (ipykernel)",
   "language": "python",
   "name": "python3"
  },
  "language_info": {
   "codemirror_mode": {
    "name": "ipython",
    "version": 3
   },
   "file_extension": ".py",
   "mimetype": "text/x-python",
   "name": "python",
   "nbconvert_exporter": "python",
   "pygments_lexer": "ipython3",
   "version": "3.10.5"
  }
 },
 "nbformat": 4,
 "nbformat_minor": 5
}
